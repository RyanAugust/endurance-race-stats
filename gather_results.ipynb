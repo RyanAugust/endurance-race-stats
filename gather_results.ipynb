{
 "cells": [
  {
   "cell_type": "code",
   "execution_count": 1,
   "id": "40345479-a5f5-473a-95f8-401d6920e97d",
   "metadata": {},
   "outputs": [],
   "source": [
    "import pandas as pd"
   ]
  },
  {
   "cell_type": "code",
   "execution_count": 103,
   "id": "a2f3985e-bee0-4731-b8ff-2b361d4e070f",
   "metadata": {},
   "outputs": [],
   "source": [
    "indian_wells_2021 = \"https://www.endurance-data.com/en/results/621-ironman-703-indian-wells-la-quinta/all/{results_page}/\"\n",
    "indian_wells_2019 = \"https://www.endurance-data.com/en/results/477-ironman-703-indian-wells-la-quinta/all/{results_page}/\""
   ]
  },
  {
   "cell_type": "code",
   "execution_count": 114,
   "id": "92770571-4f37-4061-8a10-554a40f34113",
   "metadata": {},
   "outputs": [],
   "source": [
    "race = indian_wells_2021\n",
    "\n",
    "\n",
    "new_df_len = 1\n",
    "results_page = 1\n",
    "df = pd.DataFrame()\n",
    "\n",
    "while new_df_len > 0:\n",
    "    try:\n",
    "        new_df = pd.read_html(race.format(results_page=results_page))[0]\n",
    "        new_df_len = new_df.shape[0]\n",
    "        if new_df_len > 0:\n",
    "            df = pd.concat([df,new_df])\n",
    "        results_page += 1\n",
    "    except:\n",
    "        new_df_len = 0"
   ]
  },
  {
   "cell_type": "code",
   "execution_count": 115,
   "id": "6f38ee53-9be5-4287-8664-fdfc7aa66813",
   "metadata": {},
   "outputs": [],
   "source": [
    "df.columns = ['overall_place','gender_place','division_place','name','bib','division','nationality','swim','bike','run','total']"
   ]
  },
  {
   "cell_type": "code",
   "execution_count": 121,
   "id": "c0a0aa32-fba3-4e37-9de8-49c799b921bb",
   "metadata": {},
   "outputs": [],
   "source": [
    "def convert_time_seconds(time_str):\n",
    "    hr_, min_, sec_ = time_str.split(':')\n",
    "    total_seconds = int(hr_)*60*60 + int(min_)*60 + int(sec_)\n",
    "    return total_seconds\n",
    "def convert_seconds_time(seconds):\n",
    "    seconds = int(seconds)\n",
    "    hr_ = seconds // (60*60)\n",
    "    min_ = (seconds - hr_*60*60) // 60\n",
    "    sec_ = (seconds - hr_*60*60) - min_*60\n",
    "    time_bits = [hr_,min_,sec_]\n",
    "    for time_index in range(3):\n",
    "        time_bits[time_index] = str(time_bits[time_index])\n",
    "        time_bits[time_index] = '0' + time_bits[time_index] if len(time_bits[time_index]) < 2 else time_bits[time_index]\n",
    "    time_str = ':'.join(time_bits)\n",
    "    return time_str\n",
    "def convert_sec_pace(seconds,discipline):\n",
    "    if discipline == 'bike':\n",
    "        dist = 90\n",
    "    elif discipline == 'run':\n",
    "        dist = 21.1\n",
    "    elif discipline == 'swim':\n",
    "        dist = 1.9\n",
    "    else:\n",
    "        return None\n",
    "    return dist/seconds*60*60"
   ]
  },
  {
   "cell_type": "code",
   "execution_count": 117,
   "id": "10516588-3adf-4fc9-9157-e1f262a63d07",
   "metadata": {},
   "outputs": [],
   "source": [
    "for column in ['swim','bike','run','total']:\n",
    "    df[f'{column}_seconds']  = df[column].map(convert_time_seconds)"
   ]
  },
  {
   "cell_type": "markdown",
   "id": "d6732ccd-ff36-4625-a075-06884fd67a78",
   "metadata": {},
   "source": [
    "# Division analysis"
   ]
  },
  {
   "cell_type": "code",
   "execution_count": 118,
   "id": "5d707c77-5129-420e-a2b3-cb83e0f735a2",
   "metadata": {},
   "outputs": [],
   "source": [
    "select_divs = ['M25-29','M30-34']\n",
    "dfd = df[df['division'].isin(select_divs)]"
   ]
  },
  {
   "cell_type": "markdown",
   "id": "185a1146-741f-437b-88ce-ce53ab95d0cb",
   "metadata": {},
   "source": [
    "## Total time in 5% steps of top 25%"
   ]
  },
  {
   "cell_type": "code",
   "execution_count": 119,
   "id": "c787f6c4-f569-4d69-894e-471ae9fd98ef",
   "metadata": {},
   "outputs": [
    {
     "data": {
      "text/plain": [
       "0.00001    03:54:02\n",
       "0.05000    04:23:01\n",
       "0.10000    04:39:06\n",
       "0.15000    04:54:02\n",
       "0.20000    05:02:08\n",
       "0.25000    05:10:35\n",
       "dtype: object"
      ]
     },
     "execution_count": 119,
     "metadata": {},
     "output_type": "execute_result"
    }
   ],
   "source": [
    "quants = [.00001,.05,.1,.15,.2,.25]\n",
    "dfd.quantile(quants)[['swim_seconds','bike_seconds','run_seconds']].sum(axis=1).map(convert_seconds_time)"
   ]
  },
  {
   "cell_type": "markdown",
   "id": "20811f4c-32c4-4a08-b2b1-7d92e8d9da11",
   "metadata": {},
   "source": [
    "## Discipline quantiles"
   ]
  },
  {
   "cell_type": "code",
   "execution_count": 128,
   "id": "b4ba635c-51bf-47ce-a0e8-d0bd732e9ada",
   "metadata": {},
   "outputs": [
    {
     "name": "stdout",
     "output_type": "stream",
     "text": [
      "swim \n",
      "          swim_seconds  swim_seconds\n",
      "0.00001      00:23:46      4.795523\n",
      "0.05000      00:28:33      3.992179\n",
      "0.10000      00:30:47      3.702501\n",
      "0.15000      00:32:29      3.509222\n",
      "0.20000      00:34:03      3.347035\n",
      "0.25000      00:35:29      3.212399\n",
      "bike \n",
      "          bike_seconds  bike_seconds\n",
      "0.00001      02:11:30     41.062400\n",
      "0.05000      02:22:25     37.916023\n",
      "0.10000      02:29:02     36.230263\n",
      "0.15000      02:35:35     34.707158\n",
      "0.20000      02:38:42     34.025750\n",
      "0.25000      02:41:33     33.426184\n",
      "run \n",
      "          run_seconds  run_seconds\n",
      "0.00001     01:18:46    16.072717\n",
      "0.05000     01:32:02    13.753644\n",
      "0.10000     01:39:16    12.752455\n",
      "0.15000     01:45:58    11.946214\n",
      "0.20000     01:49:22    11.575386\n",
      "0.25000     01:53:33    11.148455\n"
     ]
    }
   ],
   "source": [
    "for discipline in ['swim_seconds','bike_seconds','run_seconds']:\n",
    "    d_q = dfd.quantile(quants)[discipline].map(convert_seconds_time)\n",
    "    dp_q = dfd.quantile(quants)[discipline].apply(lambda x: convert_sec_pace(x,discipline.split('_')[0]))\n",
    "    print(discipline.split('_')[0],'\\n',pd.concat([d_q,dp_q],axis=1))"
   ]
  },
  {
   "cell_type": "code",
   "execution_count": null,
   "id": "e0efd77b-146f-4952-953a-81f33990ab7f",
   "metadata": {},
   "outputs": [],
   "source": []
  }
 ],
 "metadata": {
  "kernelspec": {
   "display_name": "Python 3 (ipykernel)",
   "language": "python",
   "name": "python3"
  },
  "language_info": {
   "codemirror_mode": {
    "name": "ipython",
    "version": 3
   },
   "file_extension": ".py",
   "mimetype": "text/x-python",
   "name": "python",
   "nbconvert_exporter": "python",
   "pygments_lexer": "ipython3",
   "version": "3.10.4"
  }
 },
 "nbformat": 4,
 "nbformat_minor": 5
}
